{
 "cells": [
  {
   "cell_type": "code",
   "execution_count": 1,
   "metadata": {
    "collapsed": true
   },
   "outputs": [],
   "source": [
    "import scipy.io\n",
    "from scipy import interpolate\n",
    "import numpy as np\n",
    "\n",
    "def d3_scale(dat, out_range=(-1, 1), in_range=None):\n",
    "    if in_range == None:\n",
    "        domain = [np.min(dat, axis=0), np.max(dat, axis=0)]\n",
    "    else:\n",
    "        domain = in_range\n",
    "\n",
    "    def interp(x):\n",
    "        return out_range[0] * (1.0 - x) + out_range[1] * x\n",
    "\n",
    "    def uninterp(x):\n",
    "        b = 0\n",
    "        if (domain[1] - domain[0]) != 0:\n",
    "            b = domain[1] - domain[0]\n",
    "        else:\n",
    "            b =  1.0 / domain[1]\n",
    "        return (x - domain[0]) / b\n",
    "\n",
    "    return interp(uninterp(dat))\n",
    "\n",
    "# load the patterns from matlab\n",
    "pattern_file_names = [\n",
    "     \"nnRawExaStride\",\n",
    "     \"nnRawSlowWalk\",\n",
    "     \"nnRawWalk\",\n",
    "     \"nnRawRunJog\",\n",
    "     \"nnRawCartWheel\",\n",
    "     \"nnRawWaltz\",\n",
    "     \"nnRawCrawl\",\n",
    "     \"nnRawStandup\",\n",
    "     \"nnRawGetdown\",\n",
    "     \"nnRawSitting\",\n",
    "     \"nnRawGetSeated\",\n",
    "     \"nnRawStandupFromStool\",\n",
    "     \"nnRawBox1\",\n",
    "     \"nnRawBox2\",\n",
    "     \"nnRawBox3\",\n",
    "]\n",
    "\n",
    "output_dims = 61\n",
    "pattern_num = 2\n",
    "pattern_file_names = pattern_file_names[:2]"
   ]
  },
  {
   "cell_type": "code",
   "execution_count": 2,
   "metadata": {
    "collapsed": false
   },
   "outputs": [
    {
     "data": {
      "text/plain": [
       "(2,)"
      ]
     },
     "execution_count": 2,
     "metadata": {},
     "output_type": "execute_result"
    }
   ],
   "source": [
    "min_maxs = np.zeros((output_dims, 2))\n",
    "min_maxs[0,:].shape"
   ]
  },
  {
   "cell_type": "code",
   "execution_count": 3,
   "metadata": {
    "collapsed": false
   },
   "outputs": [],
   "source": [
    "min_maxs = np.zeros((output_dims, 2))\n",
    "min_maxs[:, 0] = np.inf\n",
    "min_maxs[:, 1] = -np.inf\n",
    "raw_dats = []\n",
    "\n",
    "# get the actual maximum and minimums for each dimension\n",
    "for nm in pattern_file_names:\n",
    "    name = nm[5:]\n",
    "    raw_dats.append(scipy.io.loadmat(\"section2.3_demoMotionCapture/nnData/%s.mat\" %(nm))[\"nnRawData\"+name].T)\n",
    "    for o_i in range(output_dims):\n",
    "        assert raw_dats[-1][o_i].shape != (61,)\n",
    "        \n",
    "        min_val = np.min(raw_dats[-1][o_i])\n",
    "        if min_val < min_maxs[o_i, 0]:\n",
    "            min_maxs[o_i, 0] = min_val\n",
    "\n",
    "        max_val = np.max(raw_dats[-1][o_i])\n",
    "        if max_val > min_maxs[o_i, 1]:\n",
    "            min_maxs[o_i, 1] = max_val"
   ]
  },
  {
   "cell_type": "code",
   "execution_count": 4,
   "metadata": {
    "collapsed": false
   },
   "outputs": [
    {
     "name": "stdout",
     "output_type": "stream",
     "text": [
      "[  7.89227851e+02  -1.44658396e-02   7.34937711e+00  -2.59273920e+00\n",
      "  -5.04577846e-15  -9.99999999e-01  -6.19650421e-02  -4.23118332e-01\n",
      "  -2.74384536e-01  -9.96237001e-01  -9.34289496e-01  -7.10716052e-02\n",
      "  -9.91417327e-01  -9.11771779e-02  -2.39937871e-01  -9.99355699e-01\n",
      "  -4.82374826e-15   9.98078320e-01  -4.42994365e-02  -4.95882266e-01\n",
      "   6.38311504e-02  -9.97910817e-01  -9.51882837e-01  -2.64347296e-01\n",
      "  -9.93612443e-01  -1.26776022e-01  -1.93317918e-01  -9.99085200e-01\n",
      "   6.28631540e-02  -9.34731901e-02   9.04264839e-01  -8.79724294e-02\n",
      "  -2.45196842e-01   9.51765501e-01   4.53438646e-02  -2.20280730e-01\n",
      "   9.55976077e-01  -6.73788882e-01  -9.99765733e-01  -3.36178297e-01\n",
      "  -8.99113407e-01  -4.85978045e-01  -9.91574606e-01  -8.40509377e-01\n",
      "  -2.79669028e-01  -9.98655047e-01  -9.47720447e-01  -5.15932584e-01\n",
      "  -9.88560532e-01  -7.27964954e-01   6.81344079e-01  -1.19617880e-01\n",
      "  -8.99865027e-01  -2.56700183e-01  -9.81006346e-01  -9.07641296e-01\n",
      "  -4.99938520e-01  -9.99139420e-01  -9.32935194e-01  -4.68657951e-01\n",
      "  -9.97739640e-01]\n"
     ]
    }
   ],
   "source": [
    "print(min_maxs[:, 0])"
   ]
  },
  {
   "cell_type": "code",
   "execution_count": 5,
   "metadata": {
    "collapsed": false
   },
   "outputs": [],
   "source": [
    "assert np.all(min_maxs[:, 0] != np.inf)\n",
    "assert np.all(min_maxs[:, 1] != -np.inf)"
   ]
  },
  {
   "cell_type": "code",
   "execution_count": 6,
   "metadata": {
    "collapsed": false
   },
   "outputs": [
    {
     "name": "stderr",
     "output_type": "stream",
     "text": [
      "c:\\Users\\Sean Aubin\\Anaconda3\\lib\\site-packages\\ipykernel\\__main__.py:6: FutureWarning: comparison to `None` will result in an elementwise object comparison in the future.\n"
     ]
    }
   ],
   "source": [
    "function_list = []\n",
    "\n",
    "for n_i, nm in enumerate(pattern_file_names):\n",
    "    # make each pattern values normalised between -1, 1\n",
    "    # and temporally squash them between -1 and 1 too\n",
    "    function_list.append([])\n",
    "    raw_dat = raw_dats[n_i]\n",
    "    xv = np.linspace(-1, 1, raw_dat.shape[1])\n",
    "    assert raw_dat.shape[0] == output_dims\n",
    "    normed_data = np.zeros_like(raw_dat)\n",
    "\n",
    "    for o_i in range(output_dims):\n",
    "        assert min_maxs[o_i][0] <= np.min(raw_dat[o_i, :]) \n",
    "        assert min_maxs[o_i][1] >= np.max(raw_dat[o_i, :]) \n",
    "        normed_data[o_i, :] = d3_scale(raw_dat[o_i, :], in_range=min_maxs[o_i])\n",
    "        assert np.max(normed_data) <= 1.0\n",
    "        assert np.min(normed_data) >= -1.0\n",
    "        function_list[-1].append(interpolate.interp1d(xv, normed_data[o_i, :]))"
   ]
  },
  {
   "cell_type": "code",
   "execution_count": 7,
   "metadata": {
    "collapsed": true
   },
   "outputs": [],
   "source": [
    "import matplotlib.pyplot as plt\n",
    "%matplotlib inline"
   ]
  },
  {
   "cell_type": "code",
   "execution_count": 8,
   "metadata": {
    "collapsed": false
   },
   "outputs": [
    {
     "name": "stdout",
     "output_type": "stream",
     "text": [
      "(291,)\n",
      "[ 789.22785097  985.73773527]\n"
     ]
    }
   ],
   "source": [
    "print(raw_dats[0][0].shape)\n",
    "print(min_maxs[0])"
   ]
  },
  {
   "cell_type": "code",
   "execution_count": 10,
   "metadata": {
    "collapsed": false
   },
   "outputs": [
    {
     "data": {
      "image/png": "[encoded data removed]",
      "text/plain": [
       "<matplotlib.figure.Figure at 0x801e943630>"
      ]
     },
     "metadata": {},
     "output_type": "display_data"
    }
   ],
   "source": [
    "plt.plot(raw_dats[0][0])\n",
    "#plt.plot(raw_dats[1][0])\n",
    "plt.savefig(\"good\")"
   ]
  },
  {
   "cell_type": "code",
   "execution_count": 85,
   "metadata": {
    "collapsed": false
   },
   "outputs": [
    {
     "ename": "ValueError",
     "evalue": "x and y must be the same size",
     "output_type": "error",
     "traceback": [
      "\u001b[1;31m---------------------------------------------------------------------------\u001b[0m",
      "\u001b[1;31mValueError\u001b[0m                                Traceback (most recent call last)",
      "\u001b[1;32m<ipython-input-85-518dd946783d>\u001b[0m in \u001b[0;36m<module>\u001b[1;34m()\u001b[0m\n\u001b[0;32m      5\u001b[0m \u001b[0mplt\u001b[0m\u001b[1;33m.\u001b[0m\u001b[0mscatter\u001b[0m\u001b[1;33m(\u001b[0m\u001b[0mxv\u001b[0m\u001b[1;33m,\u001b[0m \u001b[0mraw_dat\u001b[0m\u001b[1;33m)\u001b[0m\u001b[1;33m\u001b[0m\u001b[0m\n\u001b[0;32m      6\u001b[0m \u001b[0mraw_dat\u001b[0m \u001b[1;33m=\u001b[0m \u001b[0mraw_dats\u001b[0m\u001b[1;33m[\u001b[0m\u001b[1;36m1\u001b[0m\u001b[1;33m]\u001b[0m\u001b[1;33m[\u001b[0m\u001b[1;36m0\u001b[0m\u001b[1;33m]\u001b[0m\u001b[1;33m\u001b[0m\u001b[0m\n\u001b[1;32m----> 7\u001b[1;33m \u001b[0mplt\u001b[0m\u001b[1;33m.\u001b[0m\u001b[0mscatter\u001b[0m\u001b[1;33m(\u001b[0m\u001b[0mxv\u001b[0m\u001b[1;33m,\u001b[0m \u001b[0mraw_dat\u001b[0m\u001b[1;33m)\u001b[0m\u001b[1;33m\u001b[0m\u001b[0m\n\u001b[0m\u001b[0;32m      8\u001b[0m \u001b[1;33m\u001b[0m\u001b[0m\n\u001b[0;32m      9\u001b[0m \u001b[0mx_new\u001b[0m \u001b[1;33m=\u001b[0m \u001b[0mnp\u001b[0m\u001b[1;33m.\u001b[0m\u001b[0mlinspace\u001b[0m\u001b[1;33m(\u001b[0m\u001b[1;33m-\u001b[0m\u001b[0mnp\u001b[0m\u001b[1;33m.\u001b[0m\u001b[0mpi\u001b[0m\u001b[1;33m,\u001b[0m \u001b[0mnp\u001b[0m\u001b[1;33m.\u001b[0m\u001b[0mpi\u001b[0m\u001b[1;33m,\u001b[0m \u001b[0mx_max\u001b[0m\u001b[1;33m)\u001b[0m\u001b[1;33m\u001b[0m\u001b[0m\n",
      "\u001b[1;32mc:\\Users\\Sean Aubin\\Anaconda3\\lib\\site-packages\\matplotlib\\pyplot.py\u001b[0m in \u001b[0;36mscatter\u001b[1;34m(x, y, s, c, marker, cmap, norm, vmin, vmax, alpha, linewidths, verts, edgecolors, hold, data, **kwargs)\u001b[0m\n\u001b[0;32m   3249\u001b[0m                          \u001b[0mvmin\u001b[0m\u001b[1;33m=\u001b[0m\u001b[0mvmin\u001b[0m\u001b[1;33m,\u001b[0m \u001b[0mvmax\u001b[0m\u001b[1;33m=\u001b[0m\u001b[0mvmax\u001b[0m\u001b[1;33m,\u001b[0m \u001b[0malpha\u001b[0m\u001b[1;33m=\u001b[0m\u001b[0malpha\u001b[0m\u001b[1;33m,\u001b[0m\u001b[1;33m\u001b[0m\u001b[0m\n\u001b[0;32m   3250\u001b[0m                          \u001b[0mlinewidths\u001b[0m\u001b[1;33m=\u001b[0m\u001b[0mlinewidths\u001b[0m\u001b[1;33m,\u001b[0m \u001b[0mverts\u001b[0m\u001b[1;33m=\u001b[0m\u001b[0mverts\u001b[0m\u001b[1;33m,\u001b[0m\u001b[1;33m\u001b[0m\u001b[0m\n\u001b[1;32m-> 3251\u001b[1;33m                          edgecolors=edgecolors, data=data, **kwargs)\n\u001b[0m\u001b[0;32m   3252\u001b[0m     \u001b[1;32mfinally\u001b[0m\u001b[1;33m:\u001b[0m\u001b[1;33m\u001b[0m\u001b[0m\n\u001b[0;32m   3253\u001b[0m         \u001b[0max\u001b[0m\u001b[1;33m.\u001b[0m\u001b[0mhold\u001b[0m\u001b[1;33m(\u001b[0m\u001b[0mwashold\u001b[0m\u001b[1;33m)\u001b[0m\u001b[1;33m\u001b[0m\u001b[0m\n",
      "\u001b[1;32mc:\\Users\\Sean Aubin\\Anaconda3\\lib\\site-packages\\matplotlib\\__init__.py\u001b[0m in \u001b[0;36minner\u001b[1;34m(ax, *args, **kwargs)\u001b[0m\n\u001b[0;32m   1808\u001b[0m                     warnings.warn(msg % (label_namer, func.__name__),\n\u001b[0;32m   1809\u001b[0m                                   RuntimeWarning, stacklevel=2)\n\u001b[1;32m-> 1810\u001b[1;33m             \u001b[1;32mreturn\u001b[0m \u001b[0mfunc\u001b[0m\u001b[1;33m(\u001b[0m\u001b[0max\u001b[0m\u001b[1;33m,\u001b[0m \u001b[1;33m*\u001b[0m\u001b[0margs\u001b[0m\u001b[1;33m,\u001b[0m \u001b[1;33m**\u001b[0m\u001b[0mkwargs\u001b[0m\u001b[1;33m)\u001b[0m\u001b[1;33m\u001b[0m\u001b[0m\n\u001b[0m\u001b[0;32m   1811\u001b[0m         \u001b[0mpre_doc\u001b[0m \u001b[1;33m=\u001b[0m \u001b[0minner\u001b[0m\u001b[1;33m.\u001b[0m\u001b[0m__doc__\u001b[0m\u001b[1;33m\u001b[0m\u001b[0m\n\u001b[0;32m   1812\u001b[0m         \u001b[1;32mif\u001b[0m \u001b[0mpre_doc\u001b[0m \u001b[1;32mis\u001b[0m \u001b[1;32mNone\u001b[0m\u001b[1;33m:\u001b[0m\u001b[1;33m\u001b[0m\u001b[0m\n",
      "\u001b[1;32mc:\\Users\\Sean Aubin\\Anaconda3\\lib\\site-packages\\matplotlib\\axes\\_axes.py\u001b[0m in \u001b[0;36mscatter\u001b[1;34m(self, x, y, s, c, marker, cmap, norm, vmin, vmax, alpha, linewidths, verts, edgecolors, **kwargs)\u001b[0m\n\u001b[0;32m   3834\u001b[0m         \u001b[0my\u001b[0m \u001b[1;33m=\u001b[0m \u001b[0mnp\u001b[0m\u001b[1;33m.\u001b[0m\u001b[0mma\u001b[0m\u001b[1;33m.\u001b[0m\u001b[0mravel\u001b[0m\u001b[1;33m(\u001b[0m\u001b[0my\u001b[0m\u001b[1;33m)\u001b[0m\u001b[1;33m\u001b[0m\u001b[0m\n\u001b[0;32m   3835\u001b[0m         \u001b[1;32mif\u001b[0m \u001b[0mx\u001b[0m\u001b[1;33m.\u001b[0m\u001b[0msize\u001b[0m \u001b[1;33m!=\u001b[0m \u001b[0my\u001b[0m\u001b[1;33m.\u001b[0m\u001b[0msize\u001b[0m\u001b[1;33m:\u001b[0m\u001b[1;33m\u001b[0m\u001b[0m\n\u001b[1;32m-> 3836\u001b[1;33m             \u001b[1;32mraise\u001b[0m \u001b[0mValueError\u001b[0m\u001b[1;33m(\u001b[0m\u001b[1;34m\"x and y must be the same size\"\u001b[0m\u001b[1;33m)\u001b[0m\u001b[1;33m\u001b[0m\u001b[0m\n\u001b[0m\u001b[0;32m   3837\u001b[0m \u001b[1;33m\u001b[0m\u001b[0m\n\u001b[0;32m   3838\u001b[0m         \u001b[0ms\u001b[0m \u001b[1;33m=\u001b[0m \u001b[0mnp\u001b[0m\u001b[1;33m.\u001b[0m\u001b[0mma\u001b[0m\u001b[1;33m.\u001b[0m\u001b[0mravel\u001b[0m\u001b[1;33m(\u001b[0m\u001b[0ms\u001b[0m\u001b[1;33m)\u001b[0m  \u001b[1;31m# This doesn't have to match x, y in size.\u001b[0m\u001b[1;33m\u001b[0m\u001b[0m\n",
      "\u001b[1;31mValueError\u001b[0m: x and y must be the same size"
     ]
    },
    {
     "data": {
      "image/png": "[encoded data removed]",
      "text/plain": [
       "<matplotlib.figure.Figure at 0xfaf4603630>"
      ]
     },
     "metadata": {},
     "output_type": "display_data"
    }
   ],
   "source": [
    "# can approx? yes!\n",
    "raw_dat = raw_dats[0][0]\n",
    "x_max = raw_dat.shape[0]\n",
    "xv = np.linspace(0, x_max, x_max)\n",
    "plt.scatter(xv, raw_dat)\n",
    "\n",
    "x_new = np.linspace(-np.pi, np.pi, x_max)\n",
    "f_approx = interpolate.interp1d(x_new, d3_scale(raw_dat))\n",
    "plt.plot(d3_scale(f_approx(x_new), in_range=(-1, 1), out_range=min_maxs[0]))"
   ]
  },
  {
   "cell_type": "code",
   "execution_count": 44,
   "metadata": {
    "collapsed": false
   },
   "outputs": [
    {
     "data": {
      "text/plain": [
       "[<matplotlib.lines.Line2D at 0x7f384dc8fa10>]"
      ]
     },
     "execution_count": 44,
     "metadata": {},
     "output_type": "execute_result"
    },
    {
     "data": {
      "image/png": "[encoded data removed]",
      "text/plain": [
       "<matplotlib.figure.Figure at 0x7f384de18e90>"
      ]
     },
     "metadata": {},
     "output_type": "display_data"
    }
   ],
   "source": [
    "xv = np.linspace(-1, 1, raw_dat.shape[0])\n",
    "\n",
    "plt.plot(function_list[0][0](xv))"
   ]
  },
  {
   "cell_type": "code",
   "execution_count": 4,
   "metadata": {
    "collapsed": true
   },
   "outputs": [],
   "source": [
    "af = scipy.io.loadmat(\"section2.3_demoMotionCapture/nnData/%s.mat\" %(pattern_file_names[0]))"
   ]
  },
  {
   "cell_type": "code",
   "execution_count": 20,
   "metadata": {
    "collapsed": false
   },
   "outputs": [
    {
     "data": {
      "text/plain": [
       "(291,)"
      ]
     },
     "execution_count": 20,
     "metadata": {},
     "output_type": "execute_result"
    }
   ],
   "source": [
    "tmp = af['nnRawDataExaStride'].T\n",
    "tmp[0].shape"
   ]
  },
  {
   "cell_type": "code",
   "execution_count": 5,
   "metadata": {
    "collapsed": false
   },
   "outputs": [],
   "source": [
    "reg_out = scipy.io.loadmat(\"pattern_out.mat\")['reg_out']"
   ]
  },
  {
   "cell_type": "code",
   "execution_count": 18,
   "metadata": {
    "collapsed": false
   },
   "outputs": [
    {
     "name": "stdout",
     "output_type": "stream",
     "text": [
      "(61,)\n"
     ]
    },
    {
     "ename": "NameError",
     "evalue": "name 'raw_dat' is not defined",
     "output_type": "error",
     "traceback": [
      "\u001b[1;31m---------------------------------------------------------------------------\u001b[0m",
      "\u001b[1;31mNameError\u001b[0m                                 Traceback (most recent call last)",
      "\u001b[1;32m<ipython-input-18-3a909259d031>\u001b[0m in \u001b[0;36m<module>\u001b[1;34m()\u001b[0m\n\u001b[0;32m      1\u001b[0m \u001b[0mprint\u001b[0m\u001b[1;33m(\u001b[0m\u001b[0mreg_out\u001b[0m\u001b[1;33m[\u001b[0m\u001b[1;36m0\u001b[0m\u001b[1;33m,\u001b[0m \u001b[1;33m:\u001b[0m\u001b[1;33m]\u001b[0m\u001b[1;33m.\u001b[0m\u001b[0mshape\u001b[0m\u001b[1;33m)\u001b[0m\u001b[1;33m\u001b[0m\u001b[0m\n\u001b[1;32m----> 2\u001b[1;33m \u001b[0mprint\u001b[0m\u001b[1;33m(\u001b[0m\u001b[0mnp\u001b[0m\u001b[1;33m.\u001b[0m\u001b[0mmin\u001b[0m\u001b[1;33m(\u001b[0m\u001b[0mraw_dat\u001b[0m\u001b[1;33m)\u001b[0m\u001b[1;33m)\u001b[0m\u001b[1;33m\u001b[0m\u001b[0m\n\u001b[0m\u001b[0;32m      3\u001b[0m \u001b[0mprint\u001b[0m\u001b[1;33m(\u001b[0m\u001b[0mnp\u001b[0m\u001b[1;33m.\u001b[0m\u001b[0mmax\u001b[0m\u001b[1;33m(\u001b[0m\u001b[0mraw_dat\u001b[0m\u001b[1;33m)\u001b[0m\u001b[1;33m)\u001b[0m\u001b[1;33m\u001b[0m\u001b[0m\n",
      "\u001b[1;31mNameError\u001b[0m: name 'raw_dat' is not defined"
     ]
    }
   ],
   "source": [
    "print(reg_out[0, :].shape)\n",
    "print(np.min(raw_dat))\n",
    "print(np.max(raw_dat))"
   ]
  },
  {
   "cell_type": "code",
   "execution_count": 87,
   "metadata": {
    "collapsed": false
   },
   "outputs": [
    {
     "data": {
      "text/plain": [
       "(800, 1000)"
      ]
     },
     "execution_count": 87,
     "metadata": {},
     "output_type": "execute_result"
    },
    {
     "data": {
      "image/png": "[encoded data removed]",
      "text/plain": [
       "<matplotlib.figure.Figure at 0xfaf4651e48>"
      ]
     },
     "metadata": {},
     "output_type": "display_data"
    }
   ],
   "source": [
    "from nengo.synapses import filt\n",
    "\n",
    "plt_val = d3_scale(reg_out[:, 0], in_range=(-1, 1), out_range=min_maxs[0])\n",
    "plt.plot(plt_val)\n",
    "plt.plot(filt(plt_val, 0.003, dt=0.001))\n",
    "plt.ylim(800, 1000)"
   ]
  },
  {
   "cell_type": "code",
   "execution_count": null,
   "metadata": {
    "collapsed": true
   },
   "outputs": [],
   "source": []
  }
 ],
 "metadata": {
  "kernelspec": {
   "display_name": "Python 3",
   "language": "python",
   "name": "python3"
  },
  "language_info": {
   "codemirror_mode": {
    "name": "ipython",
    "version": 3
   },
   "file_extension": ".py",
   "mimetype": "text/x-python",
   "name": "python",
   "nbconvert_exporter": "python",
   "pygments_lexer": "ipython3",
   "version": "3.5.1"
  }
 },
 "nbformat": 4,
 "nbformat_minor": 0
}
