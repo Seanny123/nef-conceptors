{
 "cells": [
  {
   "cell_type": "code",
   "execution_count": 1,
   "metadata": {
    "collapsed": true
   },
   "outputs": [],
   "source": [
    "import scipy.io\n",
    "from scipy import interpolate\n",
    "import numpy as np\n",
    "\n",
    "def d3_scale(dat, out_range=(-1, 1), in_range=None):\n",
    "    if in_range == None:\n",
    "        domain = [np.min(dat, axis=0), np.max(dat, axis=0)]\n",
    "    else:\n",
    "        domain = in_range\n",
    "\n",
    "    def interp(x):\n",
    "        return out_range[0] * (1.0 - x) + out_range[1] * x\n",
    "\n",
    "    def uninterp(x):\n",
    "        b = 0\n",
    "        if (domain[1] - domain[0]) != 0:\n",
    "            b = domain[1] - domain[0]\n",
    "        else:\n",
    "            b =  1.0 / domain[1]\n",
    "        return (x - domain[0]) / b\n",
    "\n",
    "    return interp(uninterp(dat))\n",
    "\n",
    "# load the patterns from matlab\n",
    "pattern_file_names = [\n",
    "     \"nnRawExaStride\",\n",
    "     \"nnRawSlowWalk\",\n",
    "     \"nnRawWalk\",\n",
    "     \"nnRawRunJog\",\n",
    "     \"nnRawCartWheel\",\n",
    "     \"nnRawWaltz\",\n",
    "     \"nnRawCrawl\",\n",
    "     \"nnRawStandup\",\n",
    "     \"nnRawGetdown\",\n",
    "     \"nnRawSitting\",\n",
    "     \"nnRawGetSeated\",\n",
    "     \"nnRawStandupFromStool\",\n",
    "     \"nnRawBox1\",\n",
    "     \"nnRawBox2\",\n",
    "     \"nnRawBox3\",\n",
    "]\n",
    "\n",
    "output_dims = 61\n",
    "pattern_num = 2\n",
    "pattern_file_names = pattern_file_names[:2]"
   ]
  },
  {
   "cell_type": "code",
   "execution_count": 23,
   "metadata": {
    "collapsed": false
   },
   "outputs": [],
   "source": [
    "min_maxs = np.zeros((output_dims, 2))\n",
    "raw_dats = []\n",
    "\n",
    "# get the actual maximum and minimums for each dimension\n",
    "for nm in pattern_file_names:\n",
    "    name = nm[5:]\n",
    "    raw_dats.append(scipy.io.loadmat(\"section2.3_demoMotionCapture/nnData/%s.mat\" %(nm))[\"nnRawData\"+name].T)\n",
    "    for o_i in range(output_dims):\n",
    "        assert raw_dats[-1][o_i].shape != (61,)\n",
    "        min_val = np.min(raw_dats[-1][o_i])\n",
    "        if min_val < min_maxs[o_i, 0]:\n",
    "            min_maxs[o_i, 0] = min_val\n",
    "\n",
    "        max_val = np.max(raw_dats[-1][o_i])\n",
    "        if max_val > min_maxs[o_i, 1]:\n",
    "            min_maxs[o_i, 1] = max_val"
   ]
  },
  {
   "cell_type": "code",
   "execution_count": 41,
   "metadata": {
    "collapsed": false
   },
   "outputs": [
    {
     "name": "stderr",
     "output_type": "stream",
     "text": [
      "/usr/local/lib/python2.7/dist-packages/ipykernel/__main__.py:6: FutureWarning: comparison to `None` will result in an elementwise object comparison in the future.\n"
     ]
    }
   ],
   "source": [
    "function_list = []\n",
    "\n",
    "for n_i, nm in enumerate(pattern_file_names):\n",
    "    # make each pattern values normalised between -1, 1\n",
    "    # and temporally squash them between -1 and 1 too\n",
    "    function_list.append([])\n",
    "    raw_dat = raw_dats[n_i]\n",
    "    xv = np.linspace(-1, 1, raw_dat.shape[1])\n",
    "    assert raw_dat.shape[0] == output_dims\n",
    "    normed_data = np.zeros_like(raw_dat)\n",
    "\n",
    "    for o_i in range(output_dims):\n",
    "        assert min_maxs[o_i][0] <= np.min(raw_dat[o_i, :]) \n",
    "        assert min_maxs[o_i][1] >= np.max(raw_dat[o_i, :]) \n",
    "        normed_data[o_i, :] = d3_scale(raw_dat[o_i, :], in_range=min_maxs[o_i])\n",
    "        assert np.max(normed_data) <= 1.5\n",
    "        assert np.min(normed_data) >= -1.5\n",
    "        function_list[-1].append(interpolate.interp1d(xv, normed_data[o_i, :]))"
   ]
  },
  {
   "cell_type": "code",
   "execution_count": 11,
   "metadata": {
    "collapsed": true
   },
   "outputs": [],
   "source": [
    "import matplotlib.pyplot as plt\n",
    "%matplotlib inline"
   ]
  },
  {
   "cell_type": "code",
   "execution_count": 15,
   "metadata": {
    "collapsed": false
   },
   "outputs": [
    {
     "data": {
      "text/plain": [
       "(61,)"
      ]
     },
     "execution_count": 15,
     "metadata": {},
     "output_type": "execute_result"
    }
   ],
   "source": [
    "raw_dats[0][0].shape"
   ]
  },
  {
   "cell_type": "code",
   "execution_count": 35,
   "metadata": {
    "collapsed": false
   },
   "outputs": [
    {
     "data": {
      "text/plain": [
       "[<matplotlib.lines.Line2D at 0x7f384dcd2510>]"
      ]
     },
     "execution_count": 35,
     "metadata": {},
     "output_type": "execute_result"
    },
    {
     "data": {
      "image/png": "[encoded data removed]",
      "text/plain": [
       "<matplotlib.figure.Figure at 0x7f384dcd2790>"
      ]
     },
     "metadata": {},
     "output_type": "display_data"
    }
   ],
   "source": [
    "raw_dat = raw_dats[0][0]\n",
    "xv = np.linspace(np.min(raw_dat), np.max(raw_dat), raw_dat.shape[0])\n",
    "plt.scatter(xv, raw_dat)\n",
    "\n",
    "f_approx = interpolate.interp1d(xv, raw_dat)\n",
    "plt.plot(f_approx(xv))"
   ]
  },
  {
   "cell_type": "code",
   "execution_count": 43,
   "metadata": {
    "collapsed": false
   },
   "outputs": [
    {
     "ename": "TypeError",
     "evalue": "object of type 'interp1d' has no len()",
     "output_type": "error",
     "traceback": [
      "\u001b[1;31m---------------------------------------------------------------------------\u001b[0m",
      "\u001b[1;31mTypeError\u001b[0m                                 Traceback (most recent call last)",
      "\u001b[1;32m<ipython-input-43-5b486caeff17>\u001b[0m in \u001b[0;36m<module>\u001b[1;34m()\u001b[0m\n\u001b[1;32m----> 1\u001b[1;33m len(function_list[0][0\n\u001b[0m\u001b[0;32m      2\u001b[0m                     ])\n",
      "\u001b[1;31mTypeError\u001b[0m: object of type 'interp1d' has no len()"
     ]
    }
   ],
   "source": [
    "len(function_list[0][0])"
   ]
  },
  {
   "cell_type": "code",
   "execution_count": 44,
   "metadata": {
    "collapsed": false
   },
   "outputs": [
    {
     "data": {
      "text/plain": [
       "[<matplotlib.lines.Line2D at 0x7f384dc8fa10>]"
      ]
     },
     "execution_count": 44,
     "metadata": {},
     "output_type": "execute_result"
    },
    {
     "data": {
      "image/png": "[encoded data removed]",
      "text/plain": [
       "<matplotlib.figure.Figure at 0x7f384de18e90>"
      ]
     },
     "metadata": {},
     "output_type": "display_data"
    }
   ],
   "source": [
    "xv = np.linspace(-1, 1, raw_dat.shape[0])\n",
    "\n",
    "plt.plot(function_list[0][0](xv))"
   ]
  },
  {
   "cell_type": "code",
   "execution_count": 4,
   "metadata": {
    "collapsed": true
   },
   "outputs": [],
   "source": [
    "af = scipy.io.loadmat(\"section2.3_demoMotionCapture/nnData/%s.mat\" %(pattern_file_names[0]))"
   ]
  },
  {
   "cell_type": "code",
   "execution_count": 20,
   "metadata": {
    "collapsed": false
   },
   "outputs": [
    {
     "data": {
      "text/plain": [
       "(291,)"
      ]
     },
     "execution_count": 20,
     "metadata": {},
     "output_type": "execute_result"
    }
   ],
   "source": [
    "tmp = af['nnRawDataExaStride'].T\n",
    "tmp[0].shape"
   ]
  }
 ],
 "metadata": {
  "kernelspec": {
   "display_name": "Python 2",
   "language": "python",
   "name": "python2"
  },
  "language_info": {
   "codemirror_mode": {
    "name": "ipython",
    "version": 2
   },
   "file_extension": ".py",
   "mimetype": "text/x-python",
   "name": "python",
   "nbconvert_exporter": "python",
   "pygments_lexer": "ipython2",
   "version": "2.7.6"
  }
 },
 "nbformat": 4,
 "nbformat_minor": 0
}
