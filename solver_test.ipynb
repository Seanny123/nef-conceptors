{
 "cells": [
  {
   "cell_type": "code",
   "execution_count": 6,
   "metadata": {
    "collapsed": false
   },
   "outputs": [
    {
     "name": "stdout",
     "output_type": "stream",
     "text": [
      "The nengo.ipynb extension is already loaded. To reload it, use:\n",
      "  %reload_ext nengo.ipynb\n"
     ]
    }
   ],
   "source": [
    "import nengo\n",
    "from nengo.processes import WhiteSignal\n",
    "import matplotlib.pyplot as plt\n",
    "import numpy as np\n",
    "from utils import get_w\n",
    "\n",
    "%matplotlib inline\n",
    "%load_ext nengo.ipynb"
   ]
  },
  {
   "cell_type": "code",
   "execution_count": 10,
   "metadata": {
    "collapsed": false
   },
   "outputs": [],
   "source": [
    "n_neurons = 200\n",
    "\n",
    "with nengo.Network() as train_model:\n",
    "    in_nd = nengo.Node(WhiteSignal(0.5, 10))\n",
    "    ens = nengo.Ensemble(200, 1, neuron_type=nengo.LIFRate())\n",
    "    nengo.Connection(in_nd, ens)\n",
    "    \n",
    "    p_target = nengo.Probe(in_nd)\n",
    "    p_rates = nengo.Probe(ens.neurons)"
   ]
  },
  {
   "cell_type": "code",
   "execution_count": 11,
   "metadata": {
    "collapsed": false
   },
   "outputs": [],
   "source": [
    "with nengo.Simulator(train_model) as sim_train:\n",
    "    sim_train.run(10)"
   ]
  },
  {
   "cell_type": "code",
   "execution_count": 12,
   "metadata": {
    "collapsed": true
   },
   "outputs": [],
   "source": [
    "solver = nengo.solvers.LstsqL2(reg=0.02)\n",
    "b_dec, _ = solver(sim_train.data[p_rates], sim_train.data[p_target])"
   ]
  },
  {
   "cell_type": "code",
   "execution_count": 16,
   "metadata": {
    "collapsed": false
   },
   "outputs": [],
   "source": [
    "r_dec = get_w(sim_train.data[p_rates].T, sim_train.data[p_target].T, n_neurons=n_neurons)"
   ]
  },
  {
   "cell_type": "code",
   "execution_count": 20,
   "metadata": {
    "collapsed": false
   },
   "outputs": [
    {
     "name": "stdout",
     "output_type": "stream",
     "text": [
      "(200, 1)\n",
      "(200, 1)\n"
     ]
    }
   ],
   "source": [
    "print(r_dec.shape)\n",
    "print(b_dec.shape)"
   ]
  },
  {
   "cell_type": "code",
   "execution_count": 22,
   "metadata": {
    "collapsed": false
   },
   "outputs": [],
   "source": [
    "with nengo.Network() as base_model:\n",
    "    in_nd = nengo.Node(lambda t: np.sin(2*np.pi*t*5))\n",
    "    ens = nengo.Ensemble(200, 1, neuron_type=nengo.LIFRate())\n",
    "    nengo.Connection(in_nd, ens)\n",
    "    \n",
    "    p_ref = nengo.Probe(ens.neurons)\n",
    "    p_out = nengo.Probe(ens, synapse=0.01)"
   ]
  },
  {
   "cell_type": "code",
   "execution_count": 23,
   "metadata": {
    "collapsed": true
   },
   "outputs": [],
   "source": [
    "with nengo.Simulator(base_model) as sim_base:\n",
    "    sim_base.run(2)"
   ]
  },
  {
   "cell_type": "code",
   "execution_count": 28,
   "metadata": {
    "collapsed": false
   },
   "outputs": [
    {
     "data": {
      "text/plain": [
       "[<matplotlib.lines.Line2D at 0x7f46f9e40850>]"
      ]
     },
     "execution_count": 28,
     "metadata": {},
     "output_type": "execute_result"
    },
    {
     "data": {
      "image/png": "[encoded data removed]",
      "text/plain": [
       "<matplotlib.figure.Figure at 0x7f46f88d7e50>"
      ]
     },
     "metadata": {},
     "output_type": "display_data"
    }
   ],
   "source": [
    "# WHY IS EVERYTHING FUCKED?\n",
    "b_sig = np.dot(sim_base.data[p_ref], b_dec)\n",
    "r_sig = np.dot(sim_base.data[p_ref], r_dec)\n",
    "plt.plot(sim_base.data[p_out])\n",
    "plt.plot(b_sig)\n",
    "#plt.plot(r_sig)"
   ]
  }
 ],
 "metadata": {
  "kernelspec": {
   "display_name": "Python 2",
   "language": "python",
   "name": "python2"
  },
  "language_info": {
   "codemirror_mode": {
    "name": "ipython",
    "version": 2
   },
   "file_extension": ".py",
   "mimetype": "text/x-python",
   "name": "python",
   "nbconvert_exporter": "python",
   "pygments_lexer": "ipython2",
   "version": "2.7.12"
  },
  "widgets": {
   "state": {
    "83d5c9a012ef426abea9a94cd43f6ae3": {
     "views": [
      {
       "cell_index": 2
      }
     ]
    },
    "8855120ae9084bc895a30066a4e49d42": {
     "views": [
      {
       "cell_index": 7
      }
     ]
    }
   },
   "version": "1.2.0"
  }
 },
 "nbformat": 4,
 "nbformat_minor": 1
}
